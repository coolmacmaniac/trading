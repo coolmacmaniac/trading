{
 "cells": [
  {
   "cell_type": "code",
   "execution_count": 1,
   "metadata": {},
   "outputs": [],
   "source": [
    "import pandas as pd\n",
    "import numpy as np\n",
    "import matplotlib.pyplot as plt\n",
    "\n",
    "%matplotlib inline"
   ]
  },
  {
   "cell_type": "code",
   "execution_count": 29,
   "metadata": {},
   "outputs": [
    {
     "data": {
      "text/html": [
       "<div>\n",
       "<style scoped>\n",
       "    .dataframe tbody tr th:only-of-type {\n",
       "        vertical-align: middle;\n",
       "    }\n",
       "\n",
       "    .dataframe tbody tr th {\n",
       "        vertical-align: top;\n",
       "    }\n",
       "\n",
       "    .dataframe thead th {\n",
       "        text-align: right;\n",
       "    }\n",
       "</style>\n",
       "<table border=\"1\" class=\"dataframe\">\n",
       "  <thead>\n",
       "    <tr style=\"text-align: right;\">\n",
       "      <th></th>\n",
       "      <th>auctionid</th>\n",
       "      <th>bid</th>\n",
       "      <th>bidtime</th>\n",
       "      <th>bidder</th>\n",
       "      <th>bidderrate</th>\n",
       "      <th>openbid</th>\n",
       "      <th>price</th>\n",
       "    </tr>\n",
       "  </thead>\n",
       "  <tbody>\n",
       "    <tr>\n",
       "      <th>0</th>\n",
       "      <td>8213034705</td>\n",
       "      <td>95.0</td>\n",
       "      <td>2.927373</td>\n",
       "      <td>jake7870</td>\n",
       "      <td>0</td>\n",
       "      <td>95.0</td>\n",
       "      <td>117.5</td>\n",
       "    </tr>\n",
       "    <tr>\n",
       "      <th>1</th>\n",
       "      <td>8213034705</td>\n",
       "      <td>115.0</td>\n",
       "      <td>2.943484</td>\n",
       "      <td>davidbresler2</td>\n",
       "      <td>1</td>\n",
       "      <td>95.0</td>\n",
       "      <td>117.5</td>\n",
       "    </tr>\n",
       "    <tr>\n",
       "      <th>2</th>\n",
       "      <td>8213034705</td>\n",
       "      <td>100.0</td>\n",
       "      <td>2.951285</td>\n",
       "      <td>gladimacowgirl</td>\n",
       "      <td>58</td>\n",
       "      <td>95.0</td>\n",
       "      <td>117.5</td>\n",
       "    </tr>\n",
       "    <tr>\n",
       "      <th>3</th>\n",
       "      <td>8213034705</td>\n",
       "      <td>117.5</td>\n",
       "      <td>2.998947</td>\n",
       "      <td>daysrus</td>\n",
       "      <td>10</td>\n",
       "      <td>95.0</td>\n",
       "      <td>117.5</td>\n",
       "    </tr>\n",
       "    <tr>\n",
       "      <th>4</th>\n",
       "      <td>8213060420</td>\n",
       "      <td>2.0</td>\n",
       "      <td>0.065266</td>\n",
       "      <td>donnie4814</td>\n",
       "      <td>5</td>\n",
       "      <td>1.0</td>\n",
       "      <td>120.0</td>\n",
       "    </tr>\n",
       "  </tbody>\n",
       "</table>\n",
       "</div>"
      ],
      "text/plain": [
       "    auctionid    bid   bidtime          bidder  bidderrate  openbid  price\n",
       "0  8213034705   95.0  2.927373        jake7870           0     95.0  117.5\n",
       "1  8213034705  115.0  2.943484   davidbresler2           1     95.0  117.5\n",
       "2  8213034705  100.0  2.951285  gladimacowgirl          58     95.0  117.5\n",
       "3  8213034705  117.5  2.998947         daysrus          10     95.0  117.5\n",
       "4  8213060420    2.0  0.065266      donnie4814           5      1.0  120.0"
      ]
     },
     "execution_count": 29,
     "metadata": {},
     "output_type": "execute_result"
    }
   ],
   "source": [
    "xb = pd.read_csv(\n",
    "    'Xbox 3-day auctions.csv'\n",
    ")\n",
    "xb.head()"
   ]
  },
  {
   "cell_type": "code",
   "execution_count": 68,
   "metadata": {},
   "outputs": [
    {
     "data": {
      "text/html": [
       "<div>\n",
       "<style scoped>\n",
       "    .dataframe tbody tr th:only-of-type {\n",
       "        vertical-align: middle;\n",
       "    }\n",
       "\n",
       "    .dataframe tbody tr th {\n",
       "        vertical-align: top;\n",
       "    }\n",
       "\n",
       "    .dataframe thead th {\n",
       "        text-align: right;\n",
       "    }\n",
       "</style>\n",
       "<table border=\"1\" class=\"dataframe\">\n",
       "  <thead>\n",
       "    <tr style=\"text-align: right;\">\n",
       "      <th></th>\n",
       "      <th>auctionid</th>\n",
       "      <th>bid</th>\n",
       "      <th>bidtime</th>\n",
       "      <th>bidder</th>\n",
       "      <th>bidderrate</th>\n",
       "      <th>openbid</th>\n",
       "      <th>price</th>\n",
       "    </tr>\n",
       "  </thead>\n",
       "  <tbody>\n",
       "    <tr>\n",
       "      <th>6</th>\n",
       "      <td>8213060420</td>\n",
       "      <td>3.00</td>\n",
       "      <td>0.186539</td>\n",
       "      <td>parakeet2004</td>\n",
       "      <td>5</td>\n",
       "      <td>1.0</td>\n",
       "      <td>120.0</td>\n",
       "    </tr>\n",
       "    <tr>\n",
       "      <th>7</th>\n",
       "      <td>8213060420</td>\n",
       "      <td>10.00</td>\n",
       "      <td>0.186690</td>\n",
       "      <td>parakeet2004</td>\n",
       "      <td>5</td>\n",
       "      <td>1.0</td>\n",
       "      <td>120.0</td>\n",
       "    </tr>\n",
       "    <tr>\n",
       "      <th>8</th>\n",
       "      <td>8213060420</td>\n",
       "      <td>24.99</td>\n",
       "      <td>0.187049</td>\n",
       "      <td>parakeet2004</td>\n",
       "      <td>5</td>\n",
       "      <td>1.0</td>\n",
       "      <td>120.0</td>\n",
       "    </tr>\n",
       "  </tbody>\n",
       "</table>\n",
       "</div>"
      ],
      "text/plain": [
       "    auctionid    bid   bidtime        bidder  bidderrate  openbid  price\n",
       "6  8213060420   3.00  0.186539  parakeet2004           5      1.0  120.0\n",
       "7  8213060420  10.00  0.186690  parakeet2004           5      1.0  120.0\n",
       "8  8213060420  24.99  0.187049  parakeet2004           5      1.0  120.0"
      ]
     },
     "execution_count": 68,
     "metadata": {},
     "output_type": "execute_result"
    }
   ],
   "source": [
    "parakeet = xb[xb.bidder == 'parakeet2004']\n",
    "parakeet"
   ]
  },
  {
   "cell_type": "code",
   "execution_count": 15,
   "metadata": {},
   "outputs": [
    {
     "name": "stderr",
     "output_type": "stream",
     "text": [
      "/Users/Sourabh/anaconda/lib/python3.6/site-packages/ipykernel_launcher.py:2: SettingWithCopyWarning: \n",
      "A value is trying to be set on a copy of a slice from a DataFrame.\n",
      "Try using .loc[row_indexer,col_indexer] = value instead\n",
      "\n",
      "See the caveats in the documentation: http://pandas.pydata.org/pandas-docs/stable/indexing.html#indexing-view-versus-copy\n",
      "  \n"
     ]
    }
   ],
   "source": [
    "# error\n",
    "xb[xb.bidder == 'parakeet2004']['bidderrate'] = 100"
   ]
  },
  {
   "cell_type": "code",
   "execution_count": 69,
   "metadata": {},
   "outputs": [],
   "source": [
    "xb.loc[xb.bidder == 'parakeet2004', 'bidderrate'] = 100"
   ]
  },
  {
   "cell_type": "code",
   "execution_count": 70,
   "metadata": {
    "scrolled": true
   },
   "outputs": [
    {
     "data": {
      "text/plain": [
       "6    100\n",
       "7    100\n",
       "8    100\n",
       "Name: bidderrate, dtype: int64"
      ]
     },
     "execution_count": 70,
     "metadata": {},
     "output_type": "execute_result"
    }
   ],
   "source": [
    "xb[xb.bidder == 'parakeet2004']['bidderrate']"
   ]
  },
  {
   "cell_type": "code",
   "execution_count": 71,
   "metadata": {},
   "outputs": [
    {
     "data": {
      "text/html": [
       "<div>\n",
       "<style scoped>\n",
       "    .dataframe tbody tr th:only-of-type {\n",
       "        vertical-align: middle;\n",
       "    }\n",
       "\n",
       "    .dataframe tbody tr th {\n",
       "        vertical-align: top;\n",
       "    }\n",
       "\n",
       "    .dataframe thead th {\n",
       "        text-align: right;\n",
       "    }\n",
       "</style>\n",
       "<table border=\"1\" class=\"dataframe\">\n",
       "  <thead>\n",
       "    <tr style=\"text-align: right;\">\n",
       "      <th></th>\n",
       "      <th>auctionid</th>\n",
       "      <th>bid</th>\n",
       "      <th>bidtime</th>\n",
       "      <th>bidder</th>\n",
       "      <th>bidderrate</th>\n",
       "      <th>openbid</th>\n",
       "      <th>price</th>\n",
       "    </tr>\n",
       "  </thead>\n",
       "  <tbody>\n",
       "    <tr>\n",
       "      <th>3</th>\n",
       "      <td>8213034705</td>\n",
       "      <td>117.5</td>\n",
       "      <td>2.998947</td>\n",
       "      <td>daysrus</td>\n",
       "      <td>10</td>\n",
       "      <td>95.00</td>\n",
       "      <td>117.5</td>\n",
       "    </tr>\n",
       "    <tr>\n",
       "      <th>25</th>\n",
       "      <td>8213060420</td>\n",
       "      <td>120.0</td>\n",
       "      <td>2.999722</td>\n",
       "      <td>djnoeproductions</td>\n",
       "      <td>17</td>\n",
       "      <td>1.00</td>\n",
       "      <td>120.0</td>\n",
       "    </tr>\n",
       "    <tr>\n",
       "      <th>44</th>\n",
       "      <td>8213067838</td>\n",
       "      <td>132.5</td>\n",
       "      <td>2.996632</td>\n",
       "      <td>*champaignbubbles*</td>\n",
       "      <td>202</td>\n",
       "      <td>29.99</td>\n",
       "      <td>132.5</td>\n",
       "    </tr>\n",
       "    <tr>\n",
       "      <th>45</th>\n",
       "      <td>8213067838</td>\n",
       "      <td>132.5</td>\n",
       "      <td>2.997789</td>\n",
       "      <td>*champaignbubbles*</td>\n",
       "      <td>202</td>\n",
       "      <td>29.99</td>\n",
       "      <td>132.5</td>\n",
       "    </tr>\n",
       "    <tr>\n",
       "      <th>66</th>\n",
       "      <td>8213073509</td>\n",
       "      <td>114.5</td>\n",
       "      <td>2.999236</td>\n",
       "      <td>rr6kids</td>\n",
       "      <td>4</td>\n",
       "      <td>1.00</td>\n",
       "      <td>114.5</td>\n",
       "    </tr>\n",
       "  </tbody>\n",
       "</table>\n",
       "</div>"
      ],
      "text/plain": [
       "     auctionid    bid   bidtime              bidder  bidderrate  openbid  \\\n",
       "3   8213034705  117.5  2.998947             daysrus          10    95.00   \n",
       "25  8213060420  120.0  2.999722    djnoeproductions          17     1.00   \n",
       "44  8213067838  132.5  2.996632  *champaignbubbles*         202    29.99   \n",
       "45  8213067838  132.5  2.997789  *champaignbubbles*         202    29.99   \n",
       "66  8213073509  114.5  2.999236             rr6kids           4     1.00   \n",
       "\n",
       "    price  \n",
       "3   117.5  \n",
       "25  120.0  \n",
       "44  132.5  \n",
       "45  132.5  \n",
       "66  114.5  "
      ]
     },
     "execution_count": 71,
     "metadata": {},
     "output_type": "execute_result"
    }
   ],
   "source": [
    "winners = xb.loc[xb.bid == xb.price]\n",
    "winners.head()"
   ]
  },
  {
   "cell_type": "code",
   "execution_count": 72,
   "metadata": {},
   "outputs": [
    {
     "data": {
      "text/plain": [
       "nan"
      ]
     },
     "execution_count": 72,
     "metadata": {},
     "output_type": "execute_result"
    }
   ],
   "source": [
    "winners.loc[304, 'bidder']"
   ]
  },
  {
   "cell_type": "code",
   "execution_count": 78,
   "metadata": {},
   "outputs": [],
   "source": [
    "pd.set_option('mode.chained_assignment', 'warn')\n",
    "# pd.set_option('mode.chained_assignment', 'raise')"
   ]
  },
  {
   "cell_type": "code",
   "execution_count": 79,
   "metadata": {},
   "outputs": [
    {
     "name": "stderr",
     "output_type": "stream",
     "text": [
      "/Users/Sourabh/anaconda/lib/python3.6/site-packages/pandas/core/indexing.py:537: SettingWithCopyWarning: \n",
      "A value is trying to be set on a copy of a slice from a DataFrame.\n",
      "Try using .loc[row_indexer,col_indexer] = value instead\n",
      "\n",
      "See the caveats in the documentation: http://pandas.pydata.org/pandas-docs/stable/indexing.html#indexing-view-versus-copy\n",
      "  self.obj[item] = s\n"
     ]
    }
   ],
   "source": [
    "winners.loc[304, 'bidder'] = 'realname'"
   ]
  },
  {
   "cell_type": "code",
   "execution_count": 75,
   "metadata": {},
   "outputs": [],
   "source": [
    "# xb.loc[xb.bid == xb.price].loc[304, 'bidder'] = 'realname'"
   ]
  },
  {
   "cell_type": "code",
   "execution_count": 80,
   "metadata": {},
   "outputs": [
    {
     "data": {
      "text/html": [
       "<div>\n",
       "<style scoped>\n",
       "    .dataframe tbody tr th:only-of-type {\n",
       "        vertical-align: middle;\n",
       "    }\n",
       "\n",
       "    .dataframe tbody tr th {\n",
       "        vertical-align: top;\n",
       "    }\n",
       "\n",
       "    .dataframe thead th {\n",
       "        text-align: right;\n",
       "    }\n",
       "</style>\n",
       "<table border=\"1\" class=\"dataframe\">\n",
       "  <thead>\n",
       "    <tr style=\"text-align: right;\">\n",
       "      <th></th>\n",
       "      <th>auctionid</th>\n",
       "      <th>bid</th>\n",
       "      <th>bidtime</th>\n",
       "      <th>bidder</th>\n",
       "      <th>bidderrate</th>\n",
       "      <th>openbid</th>\n",
       "      <th>price</th>\n",
       "    </tr>\n",
       "  </thead>\n",
       "  <tbody>\n",
       "    <tr>\n",
       "      <th>3</th>\n",
       "      <td>8213034705</td>\n",
       "      <td>117.5</td>\n",
       "      <td>2.998947</td>\n",
       "      <td>daysrus</td>\n",
       "      <td>10</td>\n",
       "      <td>95.00</td>\n",
       "      <td>117.5</td>\n",
       "    </tr>\n",
       "    <tr>\n",
       "      <th>25</th>\n",
       "      <td>8213060420</td>\n",
       "      <td>120.0</td>\n",
       "      <td>2.999722</td>\n",
       "      <td>djnoeproductions</td>\n",
       "      <td>17</td>\n",
       "      <td>1.00</td>\n",
       "      <td>120.0</td>\n",
       "    </tr>\n",
       "    <tr>\n",
       "      <th>44</th>\n",
       "      <td>8213067838</td>\n",
       "      <td>132.5</td>\n",
       "      <td>2.996632</td>\n",
       "      <td>*champaignbubbles*</td>\n",
       "      <td>202</td>\n",
       "      <td>29.99</td>\n",
       "      <td>132.5</td>\n",
       "    </tr>\n",
       "    <tr>\n",
       "      <th>45</th>\n",
       "      <td>8213067838</td>\n",
       "      <td>132.5</td>\n",
       "      <td>2.997789</td>\n",
       "      <td>*champaignbubbles*</td>\n",
       "      <td>202</td>\n",
       "      <td>29.99</td>\n",
       "      <td>132.5</td>\n",
       "    </tr>\n",
       "    <tr>\n",
       "      <th>66</th>\n",
       "      <td>8213073509</td>\n",
       "      <td>114.5</td>\n",
       "      <td>2.999236</td>\n",
       "      <td>rr6kids</td>\n",
       "      <td>4</td>\n",
       "      <td>1.00</td>\n",
       "      <td>114.5</td>\n",
       "    </tr>\n",
       "  </tbody>\n",
       "</table>\n",
       "</div>"
      ],
      "text/plain": [
       "     auctionid    bid   bidtime              bidder  bidderrate  openbid  \\\n",
       "3   8213034705  117.5  2.998947             daysrus          10    95.00   \n",
       "25  8213060420  120.0  2.999722    djnoeproductions          17     1.00   \n",
       "44  8213067838  132.5  2.996632  *champaignbubbles*         202    29.99   \n",
       "45  8213067838  132.5  2.997789  *champaignbubbles*         202    29.99   \n",
       "66  8213073509  114.5  2.999236             rr6kids           4     1.00   \n",
       "\n",
       "    price  \n",
       "3   117.5  \n",
       "25  120.0  \n",
       "44  132.5  \n",
       "45  132.5  \n",
       "66  114.5  "
      ]
     },
     "execution_count": 80,
     "metadata": {},
     "output_type": "execute_result"
    }
   ],
   "source": [
    "winners = xb.loc[xb.bid == xb.price].copy()\n",
    "winners.head()"
   ]
  },
  {
   "cell_type": "code",
   "execution_count": 82,
   "metadata": {},
   "outputs": [],
   "source": [
    "winners.loc[304, 'bidder'] = 'realname'"
   ]
  },
  {
   "cell_type": "code",
   "execution_count": 83,
   "metadata": {
    "scrolled": true
   },
   "outputs": [
    {
     "name": "stdout",
     "output_type": "stream",
     "text": [
      "realname\n",
      "nan\n"
     ]
    }
   ],
   "source": [
    "print(winners.loc[304, 'bidder'])\n",
    "print(xb.loc[304, 'bidder'])"
   ]
  },
  {
   "cell_type": "code",
   "execution_count": 30,
   "metadata": {},
   "outputs": [
    {
     "name": "stderr",
     "output_type": "stream",
     "text": [
      "/Users/Sourabh/anaconda/lib/python3.6/site-packages/ipykernel_launcher.py:2: SettingWithCopyWarning: \n",
      "A value is trying to be set on a copy of a slice from a DataFrame.\n",
      "Try using .loc[row_indexer,col_indexer] = value instead\n",
      "\n",
      "See the caveats in the documentation: http://pandas.pydata.org/pandas-docs/stable/indexing.html#indexing-view-versus-copy\n",
      "  \n"
     ]
    }
   ],
   "source": [
    "# problem - hidden chained indexing\n",
    "xb[xb.bidder == 'parakeet2004']['bidderrate'] = 100"
   ]
  },
  {
   "cell_type": "code",
   "execution_count": 31,
   "metadata": {},
   "outputs": [
    {
     "name": "stderr",
     "output_type": "stream",
     "text": [
      "/Users/Sourabh/anaconda/lib/python3.6/site-packages/ipykernel_launcher.py:2: SettingWithCopyWarning: \n",
      "A value is trying to be set on a copy of a slice from a DataFrame.\n",
      "Try using .loc[row_indexer,col_indexer] = value instead\n",
      "\n",
      "See the caveats in the documentation: http://pandas.pydata.org/pandas-docs/stable/indexing.html#indexing-view-versus-copy\n",
      "  \n"
     ]
    }
   ],
   "source": [
    "# alternate way of writing the above problematic statement\n",
    "xb.__getitem__(xb.__getitem__('bidder') == 'parakeet2004').__setitem__('bidderrate', 100)"
   ]
  },
  {
   "cell_type": "code",
   "execution_count": 33,
   "metadata": {},
   "outputs": [],
   "source": [
    "# solution to the problem of chained indexing is to use loc and iloc with set method\n",
    "xb.loc[xb.bidder == 'parakeet2004', 'bidderrate'] = 100"
   ]
  },
  {
   "cell_type": "code",
   "execution_count": 35,
   "metadata": {},
   "outputs": [],
   "source": [
    "# alternative form of the solution without syntactic sugar\n",
    "xb.loc.__setitem__((xb.__getitem__('bidder') == 'parakeet2004', 'bidderrate'), 200)"
   ]
  },
  {
   "cell_type": "code",
   "execution_count": 37,
   "metadata": {
    "scrolled": true
   },
   "outputs": [
    {
     "name": "stderr",
     "output_type": "stream",
     "text": [
      "/Users/Sourabh/anaconda/lib/python3.6/site-packages/ipykernel_launcher.py:2: SettingWithCopyWarning: \n",
      "A value is trying to be set on a copy of a slice from a DataFrame.\n",
      "Try using .loc[row_indexer,col_indexer] = value instead\n",
      "\n",
      "See the caveats in the documentation: http://pandas.pydata.org/pandas-docs/stable/indexing.html#indexing-view-versus-copy\n",
      "  \n"
     ]
    }
   ],
   "source": [
    "# using get method with loc and iloc again leads to chained indexing assignment\n",
    "xb.loc[xb.bidder == 'parakeet2004']['bidderrate'] = 100"
   ]
  },
  {
   "cell_type": "code",
   "execution_count": 70,
   "metadata": {},
   "outputs": [],
   "source": [
    "# the problem with using get method after loc and iloc\n",
    "# updates the copy but pandas can not detect it (it is a bug)\n",
    "xb.loc[xb.bidder == 'parakeet2004', ('bidderrate', 'bid')]['bid'] = 300"
   ]
  },
  {
   "cell_type": "code",
   "execution_count": 68,
   "metadata": {
    "scrolled": false
   },
   "outputs": [],
   "source": [
    "# alternative form of the problem with using get method after loc and iloc\n",
    "# updates the copy but pandas can not detect it (it is a bug)\n",
    "# the __getitem__ in loc guarantees to return the view but the view __setitem__ method is not being called\n",
    "# on xb.iloc, instead it is called on an intermediate view so it updates the view which is not updated to xb.iloc\n",
    "# this is a false positive, it should have been detected by pandas but is ignored due to a bug\n",
    "xb.loc.__getitem__((xb.__getitem__('bidder') == 'parakeet2004', ('bidderrate', 'bid'))).__setitem__('bid', 400)"
   ]
  },
  {
   "cell_type": "code",
   "execution_count": 80,
   "metadata": {
    "scrolled": true
   },
   "outputs": [
    {
     "data": {
      "text/html": [
       "<div>\n",
       "<style scoped>\n",
       "    .dataframe tbody tr th:only-of-type {\n",
       "        vertical-align: middle;\n",
       "    }\n",
       "\n",
       "    .dataframe tbody tr th {\n",
       "        vertical-align: top;\n",
       "    }\n",
       "\n",
       "    .dataframe thead th {\n",
       "        text-align: right;\n",
       "    }\n",
       "</style>\n",
       "<table border=\"1\" class=\"dataframe\">\n",
       "  <thead>\n",
       "    <tr style=\"text-align: right;\">\n",
       "      <th></th>\n",
       "      <th>auctionid</th>\n",
       "      <th>bid</th>\n",
       "      <th>bidtime</th>\n",
       "      <th>bidder</th>\n",
       "      <th>bidderrate</th>\n",
       "      <th>openbid</th>\n",
       "      <th>price</th>\n",
       "    </tr>\n",
       "  </thead>\n",
       "  <tbody>\n",
       "    <tr>\n",
       "      <th>6</th>\n",
       "      <td>8213060420</td>\n",
       "      <td>300.0</td>\n",
       "      <td>0.186539</td>\n",
       "      <td>parakeet2004</td>\n",
       "      <td>200</td>\n",
       "      <td>1.0</td>\n",
       "      <td>120.0</td>\n",
       "    </tr>\n",
       "    <tr>\n",
       "      <th>7</th>\n",
       "      <td>8213060420</td>\n",
       "      <td>300.0</td>\n",
       "      <td>0.186690</td>\n",
       "      <td>parakeet2004</td>\n",
       "      <td>200</td>\n",
       "      <td>1.0</td>\n",
       "      <td>120.0</td>\n",
       "    </tr>\n",
       "    <tr>\n",
       "      <th>8</th>\n",
       "      <td>8213060420</td>\n",
       "      <td>300.0</td>\n",
       "      <td>0.187049</td>\n",
       "      <td>parakeet2004</td>\n",
       "      <td>200</td>\n",
       "      <td>1.0</td>\n",
       "      <td>120.0</td>\n",
       "    </tr>\n",
       "  </tbody>\n",
       "</table>\n",
       "</div>"
      ],
      "text/plain": [
       "    auctionid    bid   bidtime        bidder  bidderrate  openbid  price\n",
       "6  8213060420  300.0  0.186539  parakeet2004         200      1.0  120.0\n",
       "7  8213060420  300.0  0.186690  parakeet2004         200      1.0  120.0\n",
       "8  8213060420  300.0  0.187049  parakeet2004         200      1.0  120.0"
      ]
     },
     "execution_count": 80,
     "metadata": {},
     "output_type": "execute_result"
    }
   ],
   "source": [
    "# better way of doing the above operation is like update it in place\n",
    "xb.loc[xb.bidder == 'parakeet2004', 'bid'] = 300\n",
    "# and then get its slice\n",
    "xb.loc[xb.bidder == 'parakeet2004', ('bidderrate', 'bid')]\n",
    "# or as a whole\n",
    "xb.loc[xb.bidder == 'parakeet2004']"
   ]
  },
  {
   "cell_type": "code",
   "execution_count": 79,
   "metadata": {},
   "outputs": [
    {
     "data": {
      "text/html": [
       "<div>\n",
       "<style scoped>\n",
       "    .dataframe tbody tr th:only-of-type {\n",
       "        vertical-align: middle;\n",
       "    }\n",
       "\n",
       "    .dataframe tbody tr th {\n",
       "        vertical-align: top;\n",
       "    }\n",
       "\n",
       "    .dataframe thead th {\n",
       "        text-align: right;\n",
       "    }\n",
       "</style>\n",
       "<table border=\"1\" class=\"dataframe\">\n",
       "  <thead>\n",
       "    <tr style=\"text-align: right;\">\n",
       "      <th></th>\n",
       "      <th>auctionid</th>\n",
       "      <th>bid</th>\n",
       "      <th>bidtime</th>\n",
       "      <th>bidder</th>\n",
       "      <th>bidderrate</th>\n",
       "      <th>openbid</th>\n",
       "      <th>price</th>\n",
       "    </tr>\n",
       "  </thead>\n",
       "  <tbody>\n",
       "    <tr>\n",
       "      <th>6</th>\n",
       "      <td>8213060420</td>\n",
       "      <td>400.0</td>\n",
       "      <td>0.186539</td>\n",
       "      <td>parakeet2004</td>\n",
       "      <td>200</td>\n",
       "      <td>1.0</td>\n",
       "      <td>120.0</td>\n",
       "    </tr>\n",
       "    <tr>\n",
       "      <th>7</th>\n",
       "      <td>8213060420</td>\n",
       "      <td>400.0</td>\n",
       "      <td>0.186690</td>\n",
       "      <td>parakeet2004</td>\n",
       "      <td>200</td>\n",
       "      <td>1.0</td>\n",
       "      <td>120.0</td>\n",
       "    </tr>\n",
       "    <tr>\n",
       "      <th>8</th>\n",
       "      <td>8213060420</td>\n",
       "      <td>400.0</td>\n",
       "      <td>0.187049</td>\n",
       "      <td>parakeet2004</td>\n",
       "      <td>200</td>\n",
       "      <td>1.0</td>\n",
       "      <td>120.0</td>\n",
       "    </tr>\n",
       "  </tbody>\n",
       "</table>\n",
       "</div>"
      ],
      "text/plain": [
       "    auctionid    bid   bidtime        bidder  bidderrate  openbid  price\n",
       "6  8213060420  400.0  0.186539  parakeet2004         200      1.0  120.0\n",
       "7  8213060420  400.0  0.186690  parakeet2004         200      1.0  120.0\n",
       "8  8213060420  400.0  0.187049  parakeet2004         200      1.0  120.0"
      ]
     },
     "execution_count": 79,
     "metadata": {},
     "output_type": "execute_result"
    }
   ],
   "source": [
    "# alternatively do it like this without syntactic sugar\n",
    "xb.loc.__setitem__((xb.__getitem__('bidder') == 'parakeet2004', 'bid'), 400)\n",
    "# and then get its slice\n",
    "xb.loc.__getitem__((xb.__getitem__('bidder') == 'parakeet2004', ('bidder', 'bid')))\n",
    "# or as a whole\n",
    "xb.loc.__getitem__(xb.__getitem__('bidder') == 'parakeet2004')"
   ]
  },
  {
   "cell_type": "code",
   "execution_count": 74,
   "metadata": {
    "scrolled": true
   },
   "outputs": [
    {
     "data": {
      "text/html": [
       "<div>\n",
       "<style scoped>\n",
       "    .dataframe tbody tr th:only-of-type {\n",
       "        vertical-align: middle;\n",
       "    }\n",
       "\n",
       "    .dataframe tbody tr th {\n",
       "        vertical-align: top;\n",
       "    }\n",
       "\n",
       "    .dataframe thead th {\n",
       "        text-align: right;\n",
       "    }\n",
       "</style>\n",
       "<table border=\"1\" class=\"dataframe\">\n",
       "  <thead>\n",
       "    <tr style=\"text-align: right;\">\n",
       "      <th></th>\n",
       "      <th>auctionid</th>\n",
       "      <th>bid</th>\n",
       "      <th>bidtime</th>\n",
       "      <th>bidder</th>\n",
       "      <th>bidderrate</th>\n",
       "      <th>openbid</th>\n",
       "      <th>price</th>\n",
       "    </tr>\n",
       "  </thead>\n",
       "  <tbody>\n",
       "    <tr>\n",
       "      <th>6</th>\n",
       "      <td>8213060420</td>\n",
       "      <td>300.0</td>\n",
       "      <td>0.186539</td>\n",
       "      <td>parakeet2004</td>\n",
       "      <td>200</td>\n",
       "      <td>1.0</td>\n",
       "      <td>120.0</td>\n",
       "    </tr>\n",
       "    <tr>\n",
       "      <th>7</th>\n",
       "      <td>8213060420</td>\n",
       "      <td>300.0</td>\n",
       "      <td>0.186690</td>\n",
       "      <td>parakeet2004</td>\n",
       "      <td>200</td>\n",
       "      <td>1.0</td>\n",
       "      <td>120.0</td>\n",
       "    </tr>\n",
       "    <tr>\n",
       "      <th>8</th>\n",
       "      <td>8213060420</td>\n",
       "      <td>300.0</td>\n",
       "      <td>0.187049</td>\n",
       "      <td>parakeet2004</td>\n",
       "      <td>200</td>\n",
       "      <td>1.0</td>\n",
       "      <td>120.0</td>\n",
       "    </tr>\n",
       "  </tbody>\n",
       "</table>\n",
       "</div>"
      ],
      "text/plain": [
       "    auctionid    bid   bidtime        bidder  bidderrate  openbid  price\n",
       "6  8213060420  300.0  0.186539  parakeet2004         200      1.0  120.0\n",
       "7  8213060420  300.0  0.186690  parakeet2004         200      1.0  120.0\n",
       "8  8213060420  300.0  0.187049  parakeet2004         200      1.0  120.0"
      ]
     },
     "execution_count": 74,
     "metadata": {},
     "output_type": "execute_result"
    }
   ],
   "source": [
    "xb[xb.bidder == 'parakeet2004']"
   ]
  },
  {
   "cell_type": "code",
   "execution_count": 3,
   "metadata": {},
   "outputs": [
    {
     "data": {
      "text/html": [
       "<div>\n",
       "<style scoped>\n",
       "    .dataframe tbody tr th:only-of-type {\n",
       "        vertical-align: middle;\n",
       "    }\n",
       "\n",
       "    .dataframe tbody tr th {\n",
       "        vertical-align: top;\n",
       "    }\n",
       "\n",
       "    .dataframe thead th {\n",
       "        text-align: right;\n",
       "    }\n",
       "</style>\n",
       "<table border=\"1\" class=\"dataframe\">\n",
       "  <thead>\n",
       "    <tr style=\"text-align: right;\">\n",
       "      <th></th>\n",
       "      <th>A</th>\n",
       "      <th>B</th>\n",
       "      <th>C</th>\n",
       "    </tr>\n",
       "  </thead>\n",
       "  <tbody>\n",
       "    <tr>\n",
       "      <th>0</th>\n",
       "      <td>0</td>\n",
       "      <td>1</td>\n",
       "      <td>2</td>\n",
       "    </tr>\n",
       "    <tr>\n",
       "      <th>1</th>\n",
       "      <td>3</td>\n",
       "      <td>4</td>\n",
       "      <td>5</td>\n",
       "    </tr>\n",
       "    <tr>\n",
       "      <th>2</th>\n",
       "      <td>6</td>\n",
       "      <td>7</td>\n",
       "      <td>8</td>\n",
       "    </tr>\n",
       "    <tr>\n",
       "      <th>3</th>\n",
       "      <td>9</td>\n",
       "      <td>10</td>\n",
       "      <td>11</td>\n",
       "    </tr>\n",
       "  </tbody>\n",
       "</table>\n",
       "</div>"
      ],
      "text/plain": [
       "   A   B   C\n",
       "0  0   1   2\n",
       "1  3   4   5\n",
       "2  6   7   8\n",
       "3  9  10  11"
      ]
     },
     "execution_count": 3,
     "metadata": {},
     "output_type": "execute_result"
    }
   ],
   "source": [
    "nums = np.arange(12).reshape(4, 3)\n",
    "nums\n",
    "rdf1 = pd.DataFrame(nums, columns=list('ABC'))\n",
    "rdf1"
   ]
  },
  {
   "cell_type": "code",
   "execution_count": 7,
   "metadata": {},
   "outputs": [
    {
     "data": {
      "text/html": [
       "<div>\n",
       "<style scoped>\n",
       "    .dataframe tbody tr th:only-of-type {\n",
       "        vertical-align: middle;\n",
       "    }\n",
       "\n",
       "    .dataframe tbody tr th {\n",
       "        vertical-align: top;\n",
       "    }\n",
       "\n",
       "    .dataframe thead th {\n",
       "        text-align: right;\n",
       "    }\n",
       "</style>\n",
       "<table border=\"1\" class=\"dataframe\">\n",
       "  <thead>\n",
       "    <tr style=\"text-align: right;\">\n",
       "      <th></th>\n",
       "      <th>A</th>\n",
       "      <th>B</th>\n",
       "      <th>C</th>\n",
       "    </tr>\n",
       "  </thead>\n",
       "  <tbody>\n",
       "    <tr>\n",
       "      <th>0</th>\n",
       "      <td>0</td>\n",
       "      <td>1</td>\n",
       "      <td>2</td>\n",
       "    </tr>\n",
       "    <tr>\n",
       "      <th>1</th>\n",
       "      <td>3</td>\n",
       "      <td>4</td>\n",
       "      <td>5</td>\n",
       "    </tr>\n",
       "  </tbody>\n",
       "</table>\n",
       "</div>"
      ],
      "text/plain": [
       "   A  B  C\n",
       "0  0  1  2\n",
       "1  3  4  5"
      ]
     },
     "execution_count": 7,
     "metadata": {},
     "output_type": "execute_result"
    }
   ],
   "source": [
    "rdf2 = rdf1.loc[:1]\n",
    "rdf2"
   ]
  },
  {
   "cell_type": "code",
   "execution_count": null,
   "metadata": {},
   "outputs": [],
   "source": []
  }
 ],
 "metadata": {
  "kernelspec": {
   "display_name": "Python 3",
   "language": "python",
   "name": "python3"
  },
  "language_info": {
   "codemirror_mode": {
    "name": "ipython",
    "version": 3
   },
   "file_extension": ".py",
   "mimetype": "text/x-python",
   "name": "python",
   "nbconvert_exporter": "python",
   "pygments_lexer": "ipython3",
   "version": "3.6.4"
  }
 },
 "nbformat": 4,
 "nbformat_minor": 2
}
